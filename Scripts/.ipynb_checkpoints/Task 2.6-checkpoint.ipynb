{
 "cells": [
  {
   "cell_type": "markdown",
   "id": "17ee599e-a48b-42d5-9f27-79232d63c850",
   "metadata": {},
   "source": [
    "### 2.6 Creating Dashboards with Python"
   ]
  },
  {
   "cell_type": "markdown",
   "id": "11bee543-2f8c-4f13-8baa-fc65c6defb6d",
   "metadata": {},
   "source": [
    "#### Import Libraries & Data"
   ]
  },
  {
   "cell_type": "code",
   "execution_count": 1,
   "id": "4031f655-ae24-47ce-b793-44f64c3c1f30",
   "metadata": {},
   "outputs": [],
   "source": [
    "import streamlit as st\n",
    "import pandas as pd\n",
    "import numpy as np\n",
    "import plotly.express as px\n",
    "from plotly.subplots import make_subplots\n",
    "import plotly.graph_objects as go\n",
    "import matplotlib.pyplot as plt\n",
    "from datetime import datetime as dt\n",
    "from streamlit_keplergl import keplergl_static"
   ]
  },
  {
   "cell_type": "code",
   "execution_count": 2,
   "id": "df0ab097-161d-47bd-8c5f-c5be1155bcaf",
   "metadata": {},
   "outputs": [],
   "source": [
    "df = pd.read_csv('NY_data_sample.csv', index_col = 0)"
   ]
  },
  {
   "cell_type": "markdown",
   "id": "c3a1f889-fa2c-4408-8698-313d29659181",
   "metadata": {},
   "source": [
    "#### Wrangle Data"
   ]
  },
  {
   "cell_type": "code",
   "execution_count": 3,
   "id": "11e7cc5d-ed97-4b07-a20c-b623ae42e4ff",
   "metadata": {},
   "outputs": [
    {
     "data": {
      "text/plain": [
       "ride_id                object\n",
       "rideable_type          object\n",
       "started_at             object\n",
       "ended_at               object\n",
       "start_station_name     object\n",
       "end_station_name       object\n",
       "start_lat             float64\n",
       "start_lng             float64\n",
       "end_lat               float64\n",
       "end_lng               float64\n",
       "member_casual          object\n",
       "date                   object\n",
       "avgTemp               float64\n",
       "value                   int64\n",
       "bike_rides_daily        int64\n",
       "trip_duration         float64\n",
       "dtype: object"
      ]
     },
     "execution_count": 3,
     "metadata": {},
     "output_type": "execute_result"
    }
   ],
   "source": [
    "df.dtypes"
   ]
  },
  {
   "cell_type": "code",
   "execution_count": 4,
   "id": "3146e4a2-a45a-419e-9652-a0584d6e956e",
   "metadata": {},
   "outputs": [],
   "source": [
    "# Create a month column \n",
    "\n",
    "df['date'] = pd.to_datetime(df['date'], format = '%Y-%m-%d')\n",
    "df['month'] = df['date'].dt.month\n",
    "df['month'] = df['month'].astype('int')"
   ]
  },
  {
   "cell_type": "code",
   "execution_count": 5,
   "id": "0a7acdc6-88a1-42d2-b94b-edecbcdc42e1",
   "metadata": {},
   "outputs": [],
   "source": [
    "# Create the season column\n",
    "\n",
    "df['season'] = [\n",
    "\"winter\" if (month == 12 or 1 <= month <= 4)\n",
    "    else \"spring\" if (4 < month <= 5)\n",
    "    else \"summer\" if (6 <= month <= 9)\n",
    "    else \"fall\"\n",
    "for month in df['month']\n",
    "    ]"
   ]
  },
  {
   "cell_type": "code",
   "execution_count": 6,
   "id": "8dcd0758-ac3e-48af-91e5-7c45bf7b24f6",
   "metadata": {},
   "outputs": [
    {
     "data": {
      "text/plain": [
       "(298382, 18)"
      ]
     },
     "execution_count": 6,
     "metadata": {},
     "output_type": "execute_result"
    }
   ],
   "source": [
    "df.shape"
   ]
  },
  {
   "cell_type": "code",
   "execution_count": 7,
   "id": "f571f307-315e-4aca-9b10-c4b24b872b4f",
   "metadata": {},
   "outputs": [
    {
     "data": {
      "text/plain": [
       "Index(['ride_id', 'rideable_type', 'started_at', 'ended_at',\n",
       "       'start_station_name', 'end_station_name', 'start_lat', 'start_lng',\n",
       "       'end_lat', 'end_lng', 'member_casual', 'date', 'avgTemp', 'value',\n",
       "       'bike_rides_daily', 'trip_duration', 'month', 'season'],\n",
       "      dtype='object')"
      ]
     },
     "execution_count": 7,
     "metadata": {},
     "output_type": "execute_result"
    }
   ],
   "source": [
    "df.columns"
   ]
  },
  {
   "cell_type": "markdown",
   "id": "279b03b1-ee09-4be2-8644-ae8000524065",
   "metadata": {},
   "source": [
    "#### Use plotly to produce a bar chart for the most popular stations in New York."
   ]
  },
  {
   "cell_type": "code",
   "execution_count": 8,
   "id": "b6677bdc-c1a6-40b4-b9ad-9e8b9669e4e2",
   "metadata": {},
   "outputs": [],
   "source": [
    "## Groupby\n",
    "\n",
    "df['value'] = 1 \n",
    "df_groupby_bar = df.groupby('start_station_name', as_index=False).agg({'value': 'sum'})\n",
    "top20 = df_groupby_bar.nlargest(20, 'value')"
   ]
  },
  {
   "cell_type": "code",
   "execution_count": null,
   "id": "951fd2b7-901f-4f38-8187-9ea5628f2b74",
   "metadata": {},
   "outputs": [],
   "source": [
    "fig = go.Figure(go.Bar(x = top20['start_station_name'], y = top20['value']))\n",
    "fig.show()"
   ]
  },
  {
   "cell_type": "code",
   "execution_count": null,
   "id": "7f7187a3-0350-4a83-ba11-1be44d80277d",
   "metadata": {
    "scrolled": true
   },
   "outputs": [],
   "source": [
    "fig = go.Figure(go.Bar(x = top20['start_station_name'], y = top20['value'], marker={'color': top20['value'],'colorscale': 'Blues'}))\n",
    "fig.show()"
   ]
  },
  {
   "cell_type": "code",
   "execution_count": null,
   "id": "58f082e7-2c00-4362-b21d-d89719490907",
   "metadata": {
    "scrolled": true
   },
   "outputs": [],
   "source": [
    "## Bar chart\n",
    "\n",
    "fig.update_layout(\n",
    "    title = 'Top 20 most popular bike stations in New York',\n",
    "    xaxis_title = 'Start stations',\n",
    "    yaxis_title ='Sum of trips',\n",
    "    width = 1200, height = 700\n",
    ")"
   ]
  },
  {
   "cell_type": "code",
   "execution_count": 17,
   "id": "555d2eba-daa8-4a30-8364-60ce06ef7c82",
   "metadata": {},
   "outputs": [],
   "source": [
    "# Save the top 20 stations as a csv file \n",
    "\n",
    "top20.to_csv('top20.csv')"
   ]
  },
  {
   "cell_type": "markdown",
   "id": "bc9e75f4-deb0-40c0-afa9-50d89a2ccfbf",
   "metadata": {},
   "source": [
    "#### Create a dual-axis line chart for the aggregated bike trips and temperatures in plotly."
   ]
  },
  {
   "cell_type": "code",
   "execution_count": null,
   "id": "8e1c8858-616c-4f80-8b20-97d2d14646d2",
   "metadata": {
    "scrolled": true
   },
   "outputs": [],
   "source": [
    "# Convert 'date' column to datetime\n",
    "df['date'] = pd.to_datetime(df['date'])\n",
    "\n",
    "# Create a sample data\n",
    "df_sample = df.resample('1D', on='date').mean().reset_index()\n",
    "\n",
    "# Line chart with dual y-axes\n",
    "fig = make_subplots(specs=[[{\"secondary_y\": True}]])\n",
    "\n",
    "fig.add_trace(\n",
    "    go.Scatter(x=df_sample['date'], y=df_sample['bike_rides_daily'], name='Daily Bike Rides',\n",
    "               line=dict(color='blue', width=2), opacity=0.7),\n",
    "    secondary_y=False\n",
    ")\n",
    "\n",
    "fig.add_trace(\n",
    "    go.Scatter(x=df_sample['date'], y=df_sample['avgTemp'], name='Daily Temperatures',\n",
    "               line=dict(color='red', width=2), opacity=0.7),\n",
    "    secondary_y=True\n",
    ")\n",
    "\n",
    "# Add figure title\n",
    "fig.update_layout(\n",
    "    title_text=\"Daily Bike Rides and Temperature\"\n",
    ")\n",
    "\n",
    "# Set x-axis title\n",
    "fig.update_xaxes(title_text=\"Date\", showgrid=True)\n",
    "\n",
    "# Set y-axes titles\n",
    "fig.update_yaxes(title_text=\"Bike Rides\", secondary_y=False, showgrid=True)\n",
    "fig.update_yaxes(title_text=\"Temperature (°C)\", secondary_y=True)\n",
    "\n",
    "fig.show()\n",
    "\n"
   ]
  },
  {
   "cell_type": "code",
   "execution_count": 28,
   "id": "deb30ba6-5259-476f-9e29-2b087011207c",
   "metadata": {},
   "outputs": [
    {
     "data": {
      "text/plain": [
       "Index(['ride_id', 'rideable_type', 'started_at', 'ended_at',\n",
       "       'start_station_name', 'end_station_name', 'start_lat', 'start_lng',\n",
       "       'end_lat', 'end_lng', 'member_casual', 'date', 'avgTemp', 'value',\n",
       "       'bike_rides_daily', 'trip_duration', 'month', 'season'],\n",
       "      dtype='object')"
      ]
     },
     "execution_count": 28,
     "metadata": {},
     "output_type": "execute_result"
    }
   ],
   "source": [
    "df.columns"
   ]
  },
  {
   "cell_type": "markdown",
   "id": "6673af57-9859-4e3c-819a-afd7741be65a",
   "metadata": {},
   "source": [
    "#### Drop columns not needed for dashboard"
   ]
  },
  {
   "cell_type": "code",
   "execution_count": 32,
   "id": "2c5b780d-dae6-436e-b55b-d5c853207ae2",
   "metadata": {},
   "outputs": [],
   "source": [
    "# Create a copy with fewer columns\n",
    "\n",
    "df_1 = df.drop(columns = {'ride_id', 'started_at', 'ended_at', 'start_lat',\n",
    "       'end_lat', 'start_lng', 'end_lng', 'trip_duration', 'member_casual'}) "
   ]
  },
  {
   "cell_type": "code",
   "execution_count": 33,
   "id": "d3792a7f-7775-43d0-83c1-80afdb8fc479",
   "metadata": {},
   "outputs": [
    {
     "data": {
      "text/plain": [
       "Index(['rideable_type', 'start_station_name', 'end_station_name', 'date',\n",
       "       'avgTemp', 'value', 'bike_rides_daily', 'month', 'season'],\n",
       "      dtype='object')"
      ]
     },
     "execution_count": 33,
     "metadata": {},
     "output_type": "execute_result"
    }
   ],
   "source": [
    "df_1.columns"
   ]
  },
  {
   "cell_type": "code",
   "execution_count": 34,
   "id": "1edd1ad7-60da-4bcb-ba35-91ad3c5cfad7",
   "metadata": {},
   "outputs": [],
   "source": [
    "df_1.to_csv('reduced_data_to_plot.csv')"
   ]
  }
 ],
 "metadata": {
  "kernelspec": {
   "display_name": "Python [conda env:bike_sharing] *",
   "language": "python",
   "name": "conda-env-bike_sharing-py"
  },
  "language_info": {
   "codemirror_mode": {
    "name": "ipython",
    "version": 3
   },
   "file_extension": ".py",
   "mimetype": "text/x-python",
   "name": "python",
   "nbconvert_exporter": "python",
   "pygments_lexer": "ipython3",
   "version": "3.10.16"
  }
 },
 "nbformat": 4,
 "nbformat_minor": 5
}
