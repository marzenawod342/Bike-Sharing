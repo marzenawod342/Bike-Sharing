{
 "cells": [
  {
   "cell_type": "markdown",
   "id": "d461adc5-f950-4ba8-8842-0c32db3565f0",
   "metadata": {},
   "source": [
    "### 2.5 Advanced Geospatial Plotting"
   ]
  },
  {
   "cell_type": "markdown",
   "id": "7bf802e1-cfbc-458f-8135-195bb839b248",
   "metadata": {},
   "source": [
    "#### Import libraries and load data"
   ]
  },
  {
   "cell_type": "code",
   "execution_count": 1,
   "id": "412707f0-891b-46ac-b2ab-69799a25a731",
   "metadata": {},
   "outputs": [],
   "source": [
    "import pandas as pd\n",
    "import os\n",
    "from keplergl import KeplerGl\n",
    "from pyproj import CRS\n",
    "import numpy as np\n",
    "from matplotlib import pyplot as plt"
   ]
  },
  {
   "cell_type": "code",
   "execution_count": 2,
   "id": "84b7fcbf-683a-4c2d-8b69-94aace793d08",
   "metadata": {},
   "outputs": [],
   "source": [
    "df = pd.read_csv('NY_data_sample.csv', index_col = 0)"
   ]
  },
  {
   "cell_type": "code",
   "execution_count": 3,
   "id": "04817510-03de-4e7e-85a6-db014065db8a",
   "metadata": {},
   "outputs": [
    {
     "data": {
      "text/html": [
       "<div>\n",
       "<style scoped>\n",
       "    .dataframe tbody tr th:only-of-type {\n",
       "        vertical-align: middle;\n",
       "    }\n",
       "\n",
       "    .dataframe tbody tr th {\n",
       "        vertical-align: top;\n",
       "    }\n",
       "\n",
       "    .dataframe thead th {\n",
       "        text-align: right;\n",
       "    }\n",
       "</style>\n",
       "<table border=\"1\" class=\"dataframe\">\n",
       "  <thead>\n",
       "    <tr style=\"text-align: right;\">\n",
       "      <th></th>\n",
       "      <th>ride_id</th>\n",
       "      <th>rideable_type</th>\n",
       "      <th>started_at</th>\n",
       "      <th>ended_at</th>\n",
       "      <th>start_station_name</th>\n",
       "      <th>end_station_name</th>\n",
       "      <th>start_lat</th>\n",
       "      <th>start_lng</th>\n",
       "      <th>end_lat</th>\n",
       "      <th>end_lng</th>\n",
       "      <th>member_casual</th>\n",
       "      <th>date</th>\n",
       "      <th>avgTemp</th>\n",
       "      <th>value</th>\n",
       "      <th>bike_rides_daily</th>\n",
       "      <th>trip_duration</th>\n",
       "    </tr>\n",
       "  </thead>\n",
       "  <tbody>\n",
       "    <tr>\n",
       "      <th>0</th>\n",
       "      <td>2993FF066FCB3D4D</td>\n",
       "      <td>electric_bike</td>\n",
       "      <td>2022-09-14 18:12:25.303</td>\n",
       "      <td>2022-09-14 18:18:43.395</td>\n",
       "      <td>W 18 St &amp; 6 Ave</td>\n",
       "      <td>Sullivan St &amp; Washington Sq</td>\n",
       "      <td>40.739713</td>\n",
       "      <td>-73.994564</td>\n",
       "      <td>40.730477</td>\n",
       "      <td>-73.999061</td>\n",
       "      <td>member</td>\n",
       "      <td>2022-09-14</td>\n",
       "      <td>22.9</td>\n",
       "      <td>1</td>\n",
       "      <td>1384</td>\n",
       "      <td>6.301533</td>\n",
       "    </tr>\n",
       "    <tr>\n",
       "      <th>1</th>\n",
       "      <td>F29D0D965A2E4F34</td>\n",
       "      <td>classic_bike</td>\n",
       "      <td>2022-09-14 11:01:04.111</td>\n",
       "      <td>2022-09-14 11:04:01.488</td>\n",
       "      <td>21 St &amp; 4 Ave</td>\n",
       "      <td>4 Ave &amp; 17 St</td>\n",
       "      <td>40.662584</td>\n",
       "      <td>-73.995554</td>\n",
       "      <td>40.665507</td>\n",
       "      <td>-73.993037</td>\n",
       "      <td>member</td>\n",
       "      <td>2022-09-14</td>\n",
       "      <td>22.9</td>\n",
       "      <td>1</td>\n",
       "      <td>1384</td>\n",
       "      <td>2.956283</td>\n",
       "    </tr>\n",
       "    <tr>\n",
       "      <th>2</th>\n",
       "      <td>414C54C4E7AF5121</td>\n",
       "      <td>electric_bike</td>\n",
       "      <td>2022-09-14 17:12:54.897</td>\n",
       "      <td>2022-09-14 17:21:17.592</td>\n",
       "      <td>W 13 St &amp; 5 Ave</td>\n",
       "      <td>E 11 St &amp; 3 Ave</td>\n",
       "      <td>40.735445</td>\n",
       "      <td>-73.994310</td>\n",
       "      <td>40.731270</td>\n",
       "      <td>-73.988490</td>\n",
       "      <td>casual</td>\n",
       "      <td>2022-09-14</td>\n",
       "      <td>22.9</td>\n",
       "      <td>1</td>\n",
       "      <td>1384</td>\n",
       "      <td>8.378250</td>\n",
       "    </tr>\n",
       "    <tr>\n",
       "      <th>3</th>\n",
       "      <td>EFD664E543812DAB</td>\n",
       "      <td>classic_bike</td>\n",
       "      <td>2022-09-14 05:04:20.448</td>\n",
       "      <td>2022-09-14 05:05:36.216</td>\n",
       "      <td>1 Ave &amp; E 30 St</td>\n",
       "      <td>2 Ave &amp; E 29 St</td>\n",
       "      <td>40.741444</td>\n",
       "      <td>-73.975361</td>\n",
       "      <td>40.741724</td>\n",
       "      <td>-73.978093</td>\n",
       "      <td>member</td>\n",
       "      <td>2022-09-14</td>\n",
       "      <td>22.9</td>\n",
       "      <td>1</td>\n",
       "      <td>1384</td>\n",
       "      <td>1.262800</td>\n",
       "    </tr>\n",
       "    <tr>\n",
       "      <th>4</th>\n",
       "      <td>02E14999E265B4B2</td>\n",
       "      <td>classic_bike</td>\n",
       "      <td>2022-09-14 23:09:16.578</td>\n",
       "      <td>2022-09-14 23:27:34.445</td>\n",
       "      <td>Henry St &amp; Remsen St</td>\n",
       "      <td>Fulton St &amp; Clermont Ave</td>\n",
       "      <td>40.694010</td>\n",
       "      <td>-73.994651</td>\n",
       "      <td>40.684157</td>\n",
       "      <td>-73.969223</td>\n",
       "      <td>member</td>\n",
       "      <td>2022-09-14</td>\n",
       "      <td>22.9</td>\n",
       "      <td>1</td>\n",
       "      <td>1384</td>\n",
       "      <td>18.297783</td>\n",
       "    </tr>\n",
       "  </tbody>\n",
       "</table>\n",
       "</div>"
      ],
      "text/plain": [
       "            ride_id  rideable_type               started_at  \\\n",
       "0  2993FF066FCB3D4D  electric_bike  2022-09-14 18:12:25.303   \n",
       "1  F29D0D965A2E4F34   classic_bike  2022-09-14 11:01:04.111   \n",
       "2  414C54C4E7AF5121  electric_bike  2022-09-14 17:12:54.897   \n",
       "3  EFD664E543812DAB   classic_bike  2022-09-14 05:04:20.448   \n",
       "4  02E14999E265B4B2   classic_bike  2022-09-14 23:09:16.578   \n",
       "\n",
       "                  ended_at    start_station_name             end_station_name  \\\n",
       "0  2022-09-14 18:18:43.395       W 18 St & 6 Ave  Sullivan St & Washington Sq   \n",
       "1  2022-09-14 11:04:01.488         21 St & 4 Ave                4 Ave & 17 St   \n",
       "2  2022-09-14 17:21:17.592       W 13 St & 5 Ave              E 11 St & 3 Ave   \n",
       "3  2022-09-14 05:05:36.216       1 Ave & E 30 St              2 Ave & E 29 St   \n",
       "4  2022-09-14 23:27:34.445  Henry St & Remsen St     Fulton St & Clermont Ave   \n",
       "\n",
       "   start_lat  start_lng    end_lat    end_lng member_casual        date  \\\n",
       "0  40.739713 -73.994564  40.730477 -73.999061        member  2022-09-14   \n",
       "1  40.662584 -73.995554  40.665507 -73.993037        member  2022-09-14   \n",
       "2  40.735445 -73.994310  40.731270 -73.988490        casual  2022-09-14   \n",
       "3  40.741444 -73.975361  40.741724 -73.978093        member  2022-09-14   \n",
       "4  40.694010 -73.994651  40.684157 -73.969223        member  2022-09-14   \n",
       "\n",
       "   avgTemp  value  bike_rides_daily  trip_duration  \n",
       "0     22.9      1              1384       6.301533  \n",
       "1     22.9      1              1384       2.956283  \n",
       "2     22.9      1              1384       8.378250  \n",
       "3     22.9      1              1384       1.262800  \n",
       "4     22.9      1              1384      18.297783  "
      ]
     },
     "execution_count": 3,
     "metadata": {},
     "output_type": "execute_result"
    }
   ],
   "source": [
    "df.head()"
   ]
  },
  {
   "cell_type": "markdown",
   "id": "3e376e1f-ccfc-4dba-95b3-a2cea0df447b",
   "metadata": {},
   "source": [
    "#### Create a new column with the value of 1. Then create a new aggregated dataframe that contains 3 columns: starting station, ending station, and the count of trips between those stations."
   ]
  },
  {
   "cell_type": "code",
   "execution_count": 4,
   "id": "bf716a7a-cb84-40d1-bcb5-7030c93e491c",
   "metadata": {},
   "outputs": [],
   "source": [
    "# Create a value column and group by start and end station \n",
    "\n",
    "df['value'] = 1\n",
    "df_group = df.groupby(['start_station_name', 'end_station_name',])['value'].count().reset_index()"
   ]
  },
  {
   "cell_type": "code",
   "execution_count": 5,
   "id": "40a4be3e-1cbd-4ccb-9f47-f247c13d86cf",
   "metadata": {
    "scrolled": true
   },
   "outputs": [
    {
     "data": {
      "text/html": [
       "<div>\n",
       "<style scoped>\n",
       "    .dataframe tbody tr th:only-of-type {\n",
       "        vertical-align: middle;\n",
       "    }\n",
       "\n",
       "    .dataframe tbody tr th {\n",
       "        vertical-align: top;\n",
       "    }\n",
       "\n",
       "    .dataframe thead th {\n",
       "        text-align: right;\n",
       "    }\n",
       "</style>\n",
       "<table border=\"1\" class=\"dataframe\">\n",
       "  <thead>\n",
       "    <tr style=\"text-align: right;\">\n",
       "      <th></th>\n",
       "      <th>start_station_name</th>\n",
       "      <th>end_station_name</th>\n",
       "      <th>value</th>\n",
       "    </tr>\n",
       "  </thead>\n",
       "  <tbody>\n",
       "    <tr>\n",
       "      <th>0</th>\n",
       "      <td>1 Ave &amp; E 110 St</td>\n",
       "      <td>1 Ave &amp; E 110 St</td>\n",
       "      <td>6</td>\n",
       "    </tr>\n",
       "    <tr>\n",
       "      <th>1</th>\n",
       "      <td>1 Ave &amp; E 110 St</td>\n",
       "      <td>1 Ave &amp; E 44 St</td>\n",
       "      <td>1</td>\n",
       "    </tr>\n",
       "    <tr>\n",
       "      <th>2</th>\n",
       "      <td>1 Ave &amp; E 110 St</td>\n",
       "      <td>1 Ave &amp; E 78 St</td>\n",
       "      <td>1</td>\n",
       "    </tr>\n",
       "    <tr>\n",
       "      <th>3</th>\n",
       "      <td>1 Ave &amp; E 110 St</td>\n",
       "      <td>1 Ave &amp; E 94 St</td>\n",
       "      <td>3</td>\n",
       "    </tr>\n",
       "    <tr>\n",
       "      <th>4</th>\n",
       "      <td>1 Ave &amp; E 110 St</td>\n",
       "      <td>2 Ave &amp; E 104 St</td>\n",
       "      <td>5</td>\n",
       "    </tr>\n",
       "    <tr>\n",
       "      <th>...</th>\n",
       "      <td>...</td>\n",
       "      <td>...</td>\n",
       "      <td>...</td>\n",
       "    </tr>\n",
       "    <tr>\n",
       "      <th>149688</th>\n",
       "      <td>Yankee Ferry Terminal</td>\n",
       "      <td>Pioneer St &amp; Van Brunt St</td>\n",
       "      <td>1</td>\n",
       "    </tr>\n",
       "    <tr>\n",
       "      <th>149689</th>\n",
       "      <td>Yankee Ferry Terminal</td>\n",
       "      <td>Soissons Landing</td>\n",
       "      <td>45</td>\n",
       "    </tr>\n",
       "    <tr>\n",
       "      <th>149690</th>\n",
       "      <td>Yankee Ferry Terminal</td>\n",
       "      <td>South St &amp; Gouverneur Ln</td>\n",
       "      <td>1</td>\n",
       "    </tr>\n",
       "    <tr>\n",
       "      <th>149691</th>\n",
       "      <td>Yankee Ferry Terminal</td>\n",
       "      <td>South St &amp; Whitehall St</td>\n",
       "      <td>2</td>\n",
       "    </tr>\n",
       "    <tr>\n",
       "      <th>149692</th>\n",
       "      <td>Yankee Ferry Terminal</td>\n",
       "      <td>Yankee Ferry Terminal</td>\n",
       "      <td>60</td>\n",
       "    </tr>\n",
       "  </tbody>\n",
       "</table>\n",
       "<p>149693 rows × 3 columns</p>\n",
       "</div>"
      ],
      "text/plain": [
       "           start_station_name           end_station_name  value\n",
       "0            1 Ave & E 110 St           1 Ave & E 110 St      6\n",
       "1            1 Ave & E 110 St            1 Ave & E 44 St      1\n",
       "2            1 Ave & E 110 St            1 Ave & E 78 St      1\n",
       "3            1 Ave & E 110 St            1 Ave & E 94 St      3\n",
       "4            1 Ave & E 110 St           2 Ave & E 104 St      5\n",
       "...                       ...                        ...    ...\n",
       "149688  Yankee Ferry Terminal  Pioneer St & Van Brunt St      1\n",
       "149689  Yankee Ferry Terminal           Soissons Landing     45\n",
       "149690  Yankee Ferry Terminal   South St & Gouverneur Ln      1\n",
       "149691  Yankee Ferry Terminal    South St & Whitehall St      2\n",
       "149692  Yankee Ferry Terminal      Yankee Ferry Terminal     60\n",
       "\n",
       "[149693 rows x 3 columns]"
      ]
     },
     "execution_count": 5,
     "metadata": {},
     "output_type": "execute_result"
    }
   ],
   "source": [
    "df_group"
   ]
  },
  {
   "cell_type": "code",
   "execution_count": 9,
   "id": "415c6916-c09b-4220-b932-ebbcd1c97ec5",
   "metadata": {},
   "outputs": [
    {
     "name": "stdout",
     "output_type": "stream",
     "text": [
      "297668\n",
      "(298382, 16)\n"
     ]
    }
   ],
   "source": [
    "print(df_group['value'].sum())\n",
    "print(df.shape)"
   ]
  },
  {
   "cell_type": "code",
   "execution_count": 12,
   "id": "063ed285-bfe3-4417-8f85-213310f49f3b",
   "metadata": {},
   "outputs": [],
   "source": [
    "df_group.rename(columns = {'value': 'trips'}, inplace = True)"
   ]
  },
  {
   "cell_type": "code",
   "execution_count": 13,
   "id": "93680d71-8aaf-45dd-a8cf-9588de3be34f",
   "metadata": {
    "scrolled": true
   },
   "outputs": [
    {
     "data": {
      "text/html": [
       "<div>\n",
       "<style scoped>\n",
       "    .dataframe tbody tr th:only-of-type {\n",
       "        vertical-align: middle;\n",
       "    }\n",
       "\n",
       "    .dataframe tbody tr th {\n",
       "        vertical-align: top;\n",
       "    }\n",
       "\n",
       "    .dataframe thead th {\n",
       "        text-align: right;\n",
       "    }\n",
       "</style>\n",
       "<table border=\"1\" class=\"dataframe\">\n",
       "  <thead>\n",
       "    <tr style=\"text-align: right;\">\n",
       "      <th></th>\n",
       "      <th>start_station_name</th>\n",
       "      <th>end_station_name</th>\n",
       "      <th>trips</th>\n",
       "    </tr>\n",
       "  </thead>\n",
       "  <tbody>\n",
       "    <tr>\n",
       "      <th>0</th>\n",
       "      <td>1 Ave &amp; E 110 St</td>\n",
       "      <td>1 Ave &amp; E 110 St</td>\n",
       "      <td>6</td>\n",
       "    </tr>\n",
       "    <tr>\n",
       "      <th>1</th>\n",
       "      <td>1 Ave &amp; E 110 St</td>\n",
       "      <td>1 Ave &amp; E 44 St</td>\n",
       "      <td>1</td>\n",
       "    </tr>\n",
       "    <tr>\n",
       "      <th>2</th>\n",
       "      <td>1 Ave &amp; E 110 St</td>\n",
       "      <td>1 Ave &amp; E 78 St</td>\n",
       "      <td>1</td>\n",
       "    </tr>\n",
       "    <tr>\n",
       "      <th>3</th>\n",
       "      <td>1 Ave &amp; E 110 St</td>\n",
       "      <td>1 Ave &amp; E 94 St</td>\n",
       "      <td>3</td>\n",
       "    </tr>\n",
       "    <tr>\n",
       "      <th>4</th>\n",
       "      <td>1 Ave &amp; E 110 St</td>\n",
       "      <td>2 Ave &amp; E 104 St</td>\n",
       "      <td>5</td>\n",
       "    </tr>\n",
       "  </tbody>\n",
       "</table>\n",
       "</div>"
      ],
      "text/plain": [
       "  start_station_name  end_station_name  trips\n",
       "0   1 Ave & E 110 St  1 Ave & E 110 St      6\n",
       "1   1 Ave & E 110 St   1 Ave & E 44 St      1\n",
       "2   1 Ave & E 110 St   1 Ave & E 78 St      1\n",
       "3   1 Ave & E 110 St   1 Ave & E 94 St      3\n",
       "4   1 Ave & E 110 St  2 Ave & E 104 St      5"
      ]
     },
     "execution_count": 13,
     "metadata": {},
     "output_type": "execute_result"
    }
   ],
   "source": [
    "df_group.head()"
   ]
  },
  {
   "cell_type": "markdown",
   "id": "e71c2476-4667-43a0-abcc-5370d089ce60",
   "metadata": {},
   "source": [
    "##### Create the appropriate dataframe with stations, trips and longitute and latitude"
   ]
  },
  {
   "cell_type": "code",
   "execution_count": 14,
   "id": "500eaa67-eefa-43f4-83fe-5af7f692deb5",
   "metadata": {},
   "outputs": [],
   "source": [
    "df_final=df.groupby(['start_station_name', 'end_station_name', 'start_lat', 'start_lng', 'end_lat', 'end_lng'])['value'].count().reset_index()"
   ]
  },
  {
   "cell_type": "code",
   "execution_count": 15,
   "id": "3bee2dea-2ae6-47e3-87d9-cb106a25852c",
   "metadata": {
    "scrolled": true
   },
   "outputs": [
    {
     "data": {
      "text/html": [
       "<div>\n",
       "<style scoped>\n",
       "    .dataframe tbody tr th:only-of-type {\n",
       "        vertical-align: middle;\n",
       "    }\n",
       "\n",
       "    .dataframe tbody tr th {\n",
       "        vertical-align: top;\n",
       "    }\n",
       "\n",
       "    .dataframe thead th {\n",
       "        text-align: right;\n",
       "    }\n",
       "</style>\n",
       "<table border=\"1\" class=\"dataframe\">\n",
       "  <thead>\n",
       "    <tr style=\"text-align: right;\">\n",
       "      <th></th>\n",
       "      <th>start_station_name</th>\n",
       "      <th>end_station_name</th>\n",
       "      <th>start_lat</th>\n",
       "      <th>start_lng</th>\n",
       "      <th>end_lat</th>\n",
       "      <th>end_lng</th>\n",
       "      <th>value</th>\n",
       "    </tr>\n",
       "  </thead>\n",
       "  <tbody>\n",
       "    <tr>\n",
       "      <th>0</th>\n",
       "      <td>1 Ave &amp; E 110 St</td>\n",
       "      <td>1 Ave &amp; E 110 St</td>\n",
       "      <td>40.792230</td>\n",
       "      <td>-73.937900</td>\n",
       "      <td>40.792327</td>\n",
       "      <td>-73.938300</td>\n",
       "      <td>1</td>\n",
       "    </tr>\n",
       "    <tr>\n",
       "      <th>1</th>\n",
       "      <td>1 Ave &amp; E 110 St</td>\n",
       "      <td>1 Ave &amp; E 110 St</td>\n",
       "      <td>40.792327</td>\n",
       "      <td>-73.938300</td>\n",
       "      <td>40.792327</td>\n",
       "      <td>-73.938300</td>\n",
       "      <td>4</td>\n",
       "    </tr>\n",
       "    <tr>\n",
       "      <th>2</th>\n",
       "      <td>1 Ave &amp; E 110 St</td>\n",
       "      <td>1 Ave &amp; E 110 St</td>\n",
       "      <td>40.792373</td>\n",
       "      <td>-73.938079</td>\n",
       "      <td>40.792327</td>\n",
       "      <td>-73.938300</td>\n",
       "      <td>1</td>\n",
       "    </tr>\n",
       "    <tr>\n",
       "      <th>3</th>\n",
       "      <td>1 Ave &amp; E 110 St</td>\n",
       "      <td>1 Ave &amp; E 44 St</td>\n",
       "      <td>40.792327</td>\n",
       "      <td>-73.938300</td>\n",
       "      <td>40.750020</td>\n",
       "      <td>-73.969053</td>\n",
       "      <td>1</td>\n",
       "    </tr>\n",
       "    <tr>\n",
       "      <th>4</th>\n",
       "      <td>1 Ave &amp; E 110 St</td>\n",
       "      <td>1 Ave &amp; E 78 St</td>\n",
       "      <td>40.792327</td>\n",
       "      <td>-73.938300</td>\n",
       "      <td>40.771404</td>\n",
       "      <td>-73.953517</td>\n",
       "      <td>1</td>\n",
       "    </tr>\n",
       "  </tbody>\n",
       "</table>\n",
       "</div>"
      ],
      "text/plain": [
       "  start_station_name  end_station_name  start_lat  start_lng    end_lat  \\\n",
       "0   1 Ave & E 110 St  1 Ave & E 110 St  40.792230 -73.937900  40.792327   \n",
       "1   1 Ave & E 110 St  1 Ave & E 110 St  40.792327 -73.938300  40.792327   \n",
       "2   1 Ave & E 110 St  1 Ave & E 110 St  40.792373 -73.938079  40.792327   \n",
       "3   1 Ave & E 110 St   1 Ave & E 44 St  40.792327 -73.938300  40.750020   \n",
       "4   1 Ave & E 110 St   1 Ave & E 78 St  40.792327 -73.938300  40.771404   \n",
       "\n",
       "     end_lng  value  \n",
       "0 -73.938300      1  \n",
       "1 -73.938300      4  \n",
       "2 -73.938300      1  \n",
       "3 -73.969053      1  \n",
       "4 -73.953517      1  "
      ]
     },
     "execution_count": 15,
     "metadata": {},
     "output_type": "execute_result"
    }
   ],
   "source": [
    "df_final.head()"
   ]
  },
  {
   "cell_type": "code",
   "execution_count": 19,
   "id": "142000cd-9292-43fe-9edc-85605e87e9e4",
   "metadata": {},
   "outputs": [],
   "source": [
    "df_final.rename(columns = {'value':'trips',}, inplace = True)"
   ]
  },
  {
   "cell_type": "code",
   "execution_count": 21,
   "id": "87001b31-2e3d-4692-b4e9-1411c9058984",
   "metadata": {},
   "outputs": [
    {
     "data": {
      "text/html": [
       "<div>\n",
       "<style scoped>\n",
       "    .dataframe tbody tr th:only-of-type {\n",
       "        vertical-align: middle;\n",
       "    }\n",
       "\n",
       "    .dataframe tbody tr th {\n",
       "        vertical-align: top;\n",
       "    }\n",
       "\n",
       "    .dataframe thead th {\n",
       "        text-align: right;\n",
       "    }\n",
       "</style>\n",
       "<table border=\"1\" class=\"dataframe\">\n",
       "  <thead>\n",
       "    <tr style=\"text-align: right;\">\n",
       "      <th></th>\n",
       "      <th>start_station_name</th>\n",
       "      <th>end_station_name</th>\n",
       "      <th>start_lat</th>\n",
       "      <th>start_lng</th>\n",
       "      <th>end_lat</th>\n",
       "      <th>end_lng</th>\n",
       "      <th>trips</th>\n",
       "    </tr>\n",
       "  </thead>\n",
       "  <tbody>\n",
       "    <tr>\n",
       "      <th>0</th>\n",
       "      <td>1 Ave &amp; E 110 St</td>\n",
       "      <td>1 Ave &amp; E 110 St</td>\n",
       "      <td>40.792230</td>\n",
       "      <td>-73.937900</td>\n",
       "      <td>40.792327</td>\n",
       "      <td>-73.938300</td>\n",
       "      <td>1</td>\n",
       "    </tr>\n",
       "    <tr>\n",
       "      <th>1</th>\n",
       "      <td>1 Ave &amp; E 110 St</td>\n",
       "      <td>1 Ave &amp; E 110 St</td>\n",
       "      <td>40.792327</td>\n",
       "      <td>-73.938300</td>\n",
       "      <td>40.792327</td>\n",
       "      <td>-73.938300</td>\n",
       "      <td>4</td>\n",
       "    </tr>\n",
       "    <tr>\n",
       "      <th>2</th>\n",
       "      <td>1 Ave &amp; E 110 St</td>\n",
       "      <td>1 Ave &amp; E 110 St</td>\n",
       "      <td>40.792373</td>\n",
       "      <td>-73.938079</td>\n",
       "      <td>40.792327</td>\n",
       "      <td>-73.938300</td>\n",
       "      <td>1</td>\n",
       "    </tr>\n",
       "    <tr>\n",
       "      <th>3</th>\n",
       "      <td>1 Ave &amp; E 110 St</td>\n",
       "      <td>1 Ave &amp; E 44 St</td>\n",
       "      <td>40.792327</td>\n",
       "      <td>-73.938300</td>\n",
       "      <td>40.750020</td>\n",
       "      <td>-73.969053</td>\n",
       "      <td>1</td>\n",
       "    </tr>\n",
       "    <tr>\n",
       "      <th>4</th>\n",
       "      <td>1 Ave &amp; E 110 St</td>\n",
       "      <td>1 Ave &amp; E 78 St</td>\n",
       "      <td>40.792327</td>\n",
       "      <td>-73.938300</td>\n",
       "      <td>40.771404</td>\n",
       "      <td>-73.953517</td>\n",
       "      <td>1</td>\n",
       "    </tr>\n",
       "  </tbody>\n",
       "</table>\n",
       "</div>"
      ],
      "text/plain": [
       "  start_station_name  end_station_name  start_lat  start_lng    end_lat  \\\n",
       "0   1 Ave & E 110 St  1 Ave & E 110 St  40.792230 -73.937900  40.792327   \n",
       "1   1 Ave & E 110 St  1 Ave & E 110 St  40.792327 -73.938300  40.792327   \n",
       "2   1 Ave & E 110 St  1 Ave & E 110 St  40.792373 -73.938079  40.792327   \n",
       "3   1 Ave & E 110 St   1 Ave & E 44 St  40.792327 -73.938300  40.750020   \n",
       "4   1 Ave & E 110 St   1 Ave & E 78 St  40.792327 -73.938300  40.771404   \n",
       "\n",
       "     end_lng  trips  \n",
       "0 -73.938300      1  \n",
       "1 -73.938300      4  \n",
       "2 -73.938300      1  \n",
       "3 -73.969053      1  \n",
       "4 -73.953517      1  "
      ]
     },
     "execution_count": 21,
     "metadata": {},
     "output_type": "execute_result"
    }
   ],
   "source": [
    "df_final.head()"
   ]
  },
  {
   "cell_type": "markdown",
   "id": "4ba75586-ebf8-401f-accf-f642ac100997",
   "metadata": {},
   "source": [
    "##### Export new data frame to csv"
   ]
  },
  {
   "cell_type": "code",
   "execution_count": 20,
   "id": "0fce3205-522e-4cc2-af93-ddf215d0296c",
   "metadata": {},
   "outputs": [],
   "source": [
    "df_final.to_csv('df_final_locations_for_map.csv')"
   ]
  },
  {
   "cell_type": "markdown",
   "id": "a1b9d90c-9650-40b7-aac1-99db5a03f090",
   "metadata": {},
   "source": [
    "#### Initialize an instance of a kepler.gl map."
   ]
  },
  {
   "cell_type": "code",
   "execution_count": 17,
   "id": "ecd5f206-9811-449b-8686-3b8a6807e057",
   "metadata": {
    "scrolled": true
   },
   "outputs": [
    {
     "name": "stdout",
     "output_type": "stream",
     "text": [
      "User Guide: https://docs.kepler.gl/docs/keplergl-jupyter\n"
     ]
    },
    {
     "data": {
      "application/vnd.jupyter.widget-view+json": {
       "model_id": "64fbdd0abc1a4025af52e8a125f92c91",
       "version_major": 2,
       "version_minor": 0
      },
      "text/plain": [
       "KeplerGl(data={'data_1':            start_station_name          end_station_name  start_lat  start_lng  \\\n",
       "0   …"
      ]
     },
     "metadata": {},
     "output_type": "display_data"
    }
   ],
   "source": [
    "# Create KeplerGl instance\n",
    "\n",
    "m = KeplerGl(height = 700, data={\"data_1\": df_final})\n",
    "m"
   ]
  },
  {
   "cell_type": "code",
   "execution_count": 7,
   "id": "2024561b-97e9-4b81-8565-ccbd5850f337",
   "metadata": {},
   "outputs": [],
   "source": [
    "config = m.config"
   ]
  },
  {
   "cell_type": "code",
   "execution_count": 8,
   "id": "394a6ee7-c482-42ed-b6cc-3deca64178e8",
   "metadata": {},
   "outputs": [
    {
     "data": {
      "text/plain": [
       "{}"
      ]
     },
     "execution_count": 8,
     "metadata": {},
     "output_type": "execute_result"
    }
   ],
   "source": [
    "config"
   ]
  },
  {
   "cell_type": "markdown",
   "id": "d92643c1-f3b5-4ed3-8295-87a106d7df1b",
   "metadata": {},
   "source": [
    "### Map Customization Explanation\n",
    "\n",
    "In this map, I've made the following customizations:\n",
    "\n",
    "1. Point Layer Customization:\n",
    "\n",
    "   - Color: Changed the color of the points to a bright color (red) to enhance visibility and distinguish starting and ending stations.\n",
    "   - Radius: Adjusted the radius to ensure that points are easily identifiable on the map.\n",
    "\n",
    "3. Arc Layer Customization:\n",
    "   - Color: Used a gradient color palette with shades of blue to represent the arcs, making it easier to visualize the trips between stations.\n",
    "   - Thickness: Set the thickness of the arcs to ensure that routes are clear and stand out against the map background.\n",
    "\n",
    "These settings were chosen to enhance the visual clarity of the map, making it easier to understand the distribution of bike rides and connections between stations.\n"
   ]
  },
  {
   "cell_type": "markdown",
   "id": "14878548-1d6a-4118-8917-882247be6c3c",
   "metadata": {},
   "source": [
    "### Add a filter to your map and use it to see what the most common trips are in New York City. What else makes an impression? For example, are there any zones that seem particularly busy? Using some additional research, write a few sentences to make sense of that output.\n",
    "\n",
    "Based on the map visualization, certain zones in New York City, particularly midtown and downtown Manhattan, appear to be especially busy. These areas are characterized by a high density of arcs and points, indicating a significant volume of bike trips.\n",
    "\n",
    "Midtown Manhattan:\n",
    "\n",
    "Times Square: Known for its bustling atmosphere, Times Square is a major commercial and tourist hub. The high volume of bike trips in this area can be attributed to the numerous attractions, theaters, and shopping destinations.\n",
    "\n",
    "Penn Station: As one of the busiest transportation hubs in the city, Penn Station sees a large number of commuters and travelers, contributing to the high density of bike trips.\n",
    "\n",
    "Downtown Manhattan:\n",
    "\n",
    "Wall Street: The financial district, attracts a significant number of professionals and visitors, leading to a high volume of bike trips.\n",
    "\n",
    "World Trade Center: The area around the World Trade Center, including the National September 11 Memorial & Museum, is a major tourist destination, contributing to the high density of bike trips.\n",
    "\n",
    "Central Park is another significant hotspot for bike trips in New York City. Given its large area, scenic beauty, and numerous attractions, it's no surprise that Central Park generates a high volume of bike traffic."
   ]
  }
 ],
 "metadata": {
  "kernelspec": {
   "display_name": "Python [conda env:bike_sharing] *",
   "language": "python",
   "name": "conda-env-bike_sharing-py"
  },
  "language_info": {
   "codemirror_mode": {
    "name": "ipython",
    "version": 3
   },
   "file_extension": ".py",
   "mimetype": "text/x-python",
   "name": "python",
   "nbconvert_exporter": "python",
   "pygments_lexer": "ipython3",
   "version": "3.10.16"
  }
 },
 "nbformat": 4,
 "nbformat_minor": 5
}
