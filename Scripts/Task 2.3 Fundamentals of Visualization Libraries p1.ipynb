{
 "cells": [
  {
   "cell_type": "markdown",
   "id": "9b959bc9-f65c-492b-ae69-a48658a76ce2",
   "metadata": {},
   "source": [
    "### 2.3 Fundamentals of Visualization Libraries Part 1"
   ]
  },
  {
   "cell_type": "markdown",
   "id": "1cd9a06a-2276-493b-ab47-8627d63d19b3",
   "metadata": {},
   "source": [
    "#### Importing libraries and reading data frame"
   ]
  },
  {
   "cell_type": "code",
   "execution_count": 7,
   "id": "354d73bd-222d-4a2d-9dd0-bb4fadcb1349",
   "metadata": {},
   "outputs": [],
   "source": [
    "import pandas as pd\n",
    "from matplotlib import pyplot as plt\n",
    "import numpy as np\n",
    "from datetime import datetime as dt"
   ]
  },
  {
   "cell_type": "code",
   "execution_count": 8,
   "id": "e76c2585-04e4-4240-9b79-749637ba3337",
   "metadata": {},
   "outputs": [
    {
     "data": {
      "text/plain": [
       "'3.7.1'"
      ]
     },
     "execution_count": 8,
     "metadata": {},
     "output_type": "execute_result"
    }
   ],
   "source": [
    "import matplotlib\n",
    "matplotlib.__version__"
   ]
  },
  {
   "cell_type": "code",
   "execution_count": 9,
   "id": "4e3972a3-af0b-401f-95c0-767b64001399",
   "metadata": {},
   "outputs": [
    {
     "name": "stderr",
     "output_type": "stream",
     "text": [
      "C:\\Users\\marze\\AppData\\Local\\Temp\\ipykernel_17128\\3505775278.py:1: DtypeWarning: Columns (6,8) have mixed types. Specify dtype option on import or set low_memory=False.\n",
      "  df = pd.read_csv('NY_data.csv', index_col = 0)\n"
     ]
    }
   ],
   "source": [
    "df = pd.read_csv('NY_data.csv', index_col = 0)"
   ]
  },
  {
   "cell_type": "code",
   "execution_count": 10,
   "id": "c4a9644c-13d1-432d-a507-920eb93fd279",
   "metadata": {},
   "outputs": [
    {
     "data": {
      "text/plain": [
       "Index(['ride_id', 'rideable_type', 'started_at', 'ended_at',\n",
       "       'start_station_name', 'start_station_id', 'end_station_name',\n",
       "       'end_station_id', 'start_lat', 'start_lng', 'end_lat', 'end_lng',\n",
       "       'member_casual', 'date', 'avgTemp', '_merge'],\n",
       "      dtype='object')"
      ]
     },
     "execution_count": 10,
     "metadata": {},
     "output_type": "execute_result"
    }
   ],
   "source": [
    "df.columns"
   ]
  },
  {
   "cell_type": "code",
   "execution_count": 11,
   "id": "99227f5d-8a07-4ea0-9f4a-a6af30f9d795",
   "metadata": {},
   "outputs": [
    {
     "name": "stderr",
     "output_type": "stream",
     "text": [
      "C:\\Users\\marze\\AppData\\Local\\Temp\\ipykernel_17128\\2676585632.py:7: SettingWithCopyWarning: \n",
      "A value is trying to be set on a copy of a slice from a DataFrame\n",
      "\n",
      "See the caveats in the documentation: https://pandas.pydata.org/pandas-docs/stable/user_guide/indexing.html#returning-a-view-versus-a-copy\n",
      "  df_filtered.drop(columns='_merge', inplace=True)\n"
     ]
    }
   ],
   "source": [
    "left_only_rows = df[df['_merge'] == 'left_only']\n",
    "\n",
    "# Remove rows that are present only in the left DataFrame\n",
    "df_filtered = df[df['_merge'] != 'left_only']\n",
    "\n",
    "# Drop the '_merge' column \n",
    "df_filtered.drop(columns='_merge', inplace=True)\n"
   ]
  },
  {
   "cell_type": "code",
   "execution_count": 12,
   "id": "3f5ee57a-7109-45f7-aad4-70b8cbac998e",
   "metadata": {},
   "outputs": [
    {
     "data": {
      "text/html": [
       "<div>\n",
       "<style scoped>\n",
       "    .dataframe tbody tr th:only-of-type {\n",
       "        vertical-align: middle;\n",
       "    }\n",
       "\n",
       "    .dataframe tbody tr th {\n",
       "        vertical-align: top;\n",
       "    }\n",
       "\n",
       "    .dataframe thead th {\n",
       "        text-align: right;\n",
       "    }\n",
       "</style>\n",
       "<table border=\"1\" class=\"dataframe\">\n",
       "  <thead>\n",
       "    <tr style=\"text-align: right;\">\n",
       "      <th></th>\n",
       "      <th>ride_id</th>\n",
       "      <th>rideable_type</th>\n",
       "      <th>started_at</th>\n",
       "      <th>ended_at</th>\n",
       "      <th>start_station_name</th>\n",
       "      <th>start_station_id</th>\n",
       "      <th>end_station_name</th>\n",
       "      <th>end_station_id</th>\n",
       "      <th>start_lat</th>\n",
       "      <th>start_lng</th>\n",
       "      <th>end_lat</th>\n",
       "      <th>end_lng</th>\n",
       "      <th>member_casual</th>\n",
       "      <th>date</th>\n",
       "      <th>avgTemp</th>\n",
       "    </tr>\n",
       "  </thead>\n",
       "  <tbody>\n",
       "    <tr>\n",
       "      <th>0</th>\n",
       "      <td>BFD29218AB271154</td>\n",
       "      <td>electric_bike</td>\n",
       "      <td>2022-01-21 13:13:43.392</td>\n",
       "      <td>2022-01-21 13:22:31.463</td>\n",
       "      <td>West End Ave &amp; W 107 St</td>\n",
       "      <td>7650.05</td>\n",
       "      <td>Mt Morris Park W &amp; W 120 St</td>\n",
       "      <td>7685.14</td>\n",
       "      <td>40.802117</td>\n",
       "      <td>-73.968181</td>\n",
       "      <td>40.804038</td>\n",
       "      <td>-73.945925</td>\n",
       "      <td>member</td>\n",
       "      <td>2022-01-21</td>\n",
       "      <td>-6.0</td>\n",
       "    </tr>\n",
       "    <tr>\n",
       "      <th>1</th>\n",
       "      <td>7C953F2FD7BE1302</td>\n",
       "      <td>classic_bike</td>\n",
       "      <td>2022-01-10 11:30:54.162</td>\n",
       "      <td>2022-01-10 11:41:43.422</td>\n",
       "      <td>4 Ave &amp; 3 St</td>\n",
       "      <td>4028.04</td>\n",
       "      <td>Boerum Pl\\t&amp; Pacific St</td>\n",
       "      <td>4488.09</td>\n",
       "      <td>40.673746</td>\n",
       "      <td>-73.985649</td>\n",
       "      <td>40.688489</td>\n",
       "      <td>-73.991160</td>\n",
       "      <td>member</td>\n",
       "      <td>2022-01-10</td>\n",
       "      <td>1.6</td>\n",
       "    </tr>\n",
       "    <tr>\n",
       "      <th>2</th>\n",
       "      <td>95893ABD40CED4B8</td>\n",
       "      <td>electric_bike</td>\n",
       "      <td>2022-01-26 10:52:43.096</td>\n",
       "      <td>2022-01-26 11:06:35.227</td>\n",
       "      <td>1 Ave &amp; E 62 St</td>\n",
       "      <td>6753.08</td>\n",
       "      <td>5 Ave &amp; E 29 St</td>\n",
       "      <td>6248.06</td>\n",
       "      <td>40.761227</td>\n",
       "      <td>-73.960940</td>\n",
       "      <td>40.745168</td>\n",
       "      <td>-73.986831</td>\n",
       "      <td>member</td>\n",
       "      <td>2022-01-26</td>\n",
       "      <td>-2.3</td>\n",
       "    </tr>\n",
       "    <tr>\n",
       "      <th>3</th>\n",
       "      <td>F853B50772137378</td>\n",
       "      <td>classic_bike</td>\n",
       "      <td>2022-01-03 08:35:48.247</td>\n",
       "      <td>2022-01-03 09:10:50.475</td>\n",
       "      <td>2 Ave &amp; E 96 St</td>\n",
       "      <td>7338.02</td>\n",
       "      <td>5 Ave &amp; E 29 St</td>\n",
       "      <td>6248.06</td>\n",
       "      <td>40.783964</td>\n",
       "      <td>-73.947167</td>\n",
       "      <td>40.745168</td>\n",
       "      <td>-73.986831</td>\n",
       "      <td>member</td>\n",
       "      <td>2022-01-03</td>\n",
       "      <td>1.4</td>\n",
       "    </tr>\n",
       "    <tr>\n",
       "      <th>4</th>\n",
       "      <td>7590ADF834797B4B</td>\n",
       "      <td>classic_bike</td>\n",
       "      <td>2022-01-22 14:14:23.043</td>\n",
       "      <td>2022-01-22 14:34:57.474</td>\n",
       "      <td>6 Ave &amp; W 34 St</td>\n",
       "      <td>6364.1</td>\n",
       "      <td>5 Ave &amp; E 29 St</td>\n",
       "      <td>6248.06</td>\n",
       "      <td>40.749640</td>\n",
       "      <td>-73.988050</td>\n",
       "      <td>40.745168</td>\n",
       "      <td>-73.986831</td>\n",
       "      <td>member</td>\n",
       "      <td>2022-01-22</td>\n",
       "      <td>-5.9</td>\n",
       "    </tr>\n",
       "  </tbody>\n",
       "</table>\n",
       "</div>"
      ],
      "text/plain": [
       "            ride_id  rideable_type               started_at  \\\n",
       "0  BFD29218AB271154  electric_bike  2022-01-21 13:13:43.392   \n",
       "1  7C953F2FD7BE1302   classic_bike  2022-01-10 11:30:54.162   \n",
       "2  95893ABD40CED4B8  electric_bike  2022-01-26 10:52:43.096   \n",
       "3  F853B50772137378   classic_bike  2022-01-03 08:35:48.247   \n",
       "4  7590ADF834797B4B   classic_bike  2022-01-22 14:14:23.043   \n",
       "\n",
       "                  ended_at       start_station_name start_station_id  \\\n",
       "0  2022-01-21 13:22:31.463  West End Ave & W 107 St          7650.05   \n",
       "1  2022-01-10 11:41:43.422             4 Ave & 3 St          4028.04   \n",
       "2  2022-01-26 11:06:35.227          1 Ave & E 62 St          6753.08   \n",
       "3  2022-01-03 09:10:50.475          2 Ave & E 96 St          7338.02   \n",
       "4  2022-01-22 14:34:57.474          6 Ave & W 34 St           6364.1   \n",
       "\n",
       "              end_station_name end_station_id  start_lat  start_lng  \\\n",
       "0  Mt Morris Park W & W 120 St        7685.14  40.802117 -73.968181   \n",
       "1      Boerum Pl\\t& Pacific St        4488.09  40.673746 -73.985649   \n",
       "2              5 Ave & E 29 St        6248.06  40.761227 -73.960940   \n",
       "3              5 Ave & E 29 St        6248.06  40.783964 -73.947167   \n",
       "4              5 Ave & E 29 St        6248.06  40.749640 -73.988050   \n",
       "\n",
       "     end_lat    end_lng member_casual        date  avgTemp  \n",
       "0  40.804038 -73.945925        member  2022-01-21     -6.0  \n",
       "1  40.688489 -73.991160        member  2022-01-10      1.6  \n",
       "2  40.745168 -73.986831        member  2022-01-26     -2.3  \n",
       "3  40.745168 -73.986831        member  2022-01-03      1.4  \n",
       "4  40.745168 -73.986831        member  2022-01-22     -5.9  "
      ]
     },
     "execution_count": 12,
     "metadata": {},
     "output_type": "execute_result"
    }
   ],
   "source": [
    "df_filtered.head()"
   ]
  },
  {
   "cell_type": "code",
   "execution_count": 13,
   "id": "ed47f177-f860-4dc2-94e5-6751e801de46",
   "metadata": {},
   "outputs": [
    {
     "data": {
      "text/plain": [
       "(29838166, 15)"
      ]
     },
     "execution_count": 13,
     "metadata": {},
     "output_type": "execute_result"
    }
   ],
   "source": [
    "df_filtered.shape"
   ]
  },
  {
   "cell_type": "code",
   "execution_count": 14,
   "id": "d082d564-c240-47b6-927f-0652cd89e9cb",
   "metadata": {},
   "outputs": [
    {
     "data": {
      "text/plain": [
       "ride_id                object\n",
       "rideable_type          object\n",
       "started_at             object\n",
       "ended_at               object\n",
       "start_station_name     object\n",
       "start_station_id       object\n",
       "end_station_name       object\n",
       "end_station_id         object\n",
       "start_lat             float64\n",
       "start_lng             float64\n",
       "end_lat               float64\n",
       "end_lng               float64\n",
       "member_casual          object\n",
       "date                   object\n",
       "avgTemp               float64\n",
       "dtype: object"
      ]
     },
     "execution_count": 14,
     "metadata": {},
     "output_type": "execute_result"
    }
   ],
   "source": [
    "df_filtered.dtypes"
   ]
  },
  {
   "cell_type": "code",
   "execution_count": 15,
   "id": "4a3a0c6c-7168-4d00-81c3-620ee2f57ec6",
   "metadata": {},
   "outputs": [
    {
     "name": "stderr",
     "output_type": "stream",
     "text": [
      "C:\\Users\\marze\\AppData\\Local\\Temp\\ipykernel_17128\\2144458217.py:1: SettingWithCopyWarning: \n",
      "A value is trying to be set on a copy of a slice from a DataFrame.\n",
      "Try using .loc[row_indexer,col_indexer] = value instead\n",
      "\n",
      "See the caveats in the documentation: https://pandas.pydata.org/pandas-docs/stable/user_guide/indexing.html#returning-a-view-versus-a-copy\n",
      "  df_filtered['date'] = pd.to_datetime(df_filtered['date'])\n"
     ]
    }
   ],
   "source": [
    "df_filtered['date'] = pd.to_datetime(df_filtered['date'])"
   ]
  },
  {
   "cell_type": "code",
   "execution_count": 16,
   "id": "c936d84e-da8d-4736-9df0-527f83b5d061",
   "metadata": {
    "scrolled": true
   },
   "outputs": [
    {
     "data": {
      "text/plain": [
       "ride_id                       object\n",
       "rideable_type                 object\n",
       "started_at                    object\n",
       "ended_at                      object\n",
       "start_station_name            object\n",
       "start_station_id              object\n",
       "end_station_name              object\n",
       "end_station_id                object\n",
       "start_lat                    float64\n",
       "start_lng                    float64\n",
       "end_lat                      float64\n",
       "end_lng                      float64\n",
       "member_casual                 object\n",
       "date                  datetime64[ns]\n",
       "avgTemp                      float64\n",
       "dtype: object"
      ]
     },
     "execution_count": 16,
     "metadata": {},
     "output_type": "execute_result"
    }
   ],
   "source": [
    "df_filtered.dtypes"
   ]
  },
  {
   "cell_type": "markdown",
   "id": "f188086f-27ec-40d6-8f4c-882b6a1fc182",
   "metadata": {},
   "source": [
    "#### Create a line plot of the temperatures for 2022 plotted as time series using the weather dataframe"
   ]
  },
  {
   "cell_type": "code",
   "execution_count": 17,
   "id": "9ce83425-78ab-4068-be28-f58b811be3d5",
   "metadata": {},
   "outputs": [],
   "source": [
    "df_temp = df_filtered.set_index('date')"
   ]
  },
  {
   "cell_type": "code",
   "execution_count": 20,
   "id": "85ab1550-90e1-41db-a132-078e13b8ae98",
   "metadata": {},
   "outputs": [
    {
     "data": {
      "text/html": [
       "<div>\n",
       "<style scoped>\n",
       "    .dataframe tbody tr th:only-of-type {\n",
       "        vertical-align: middle;\n",
       "    }\n",
       "\n",
       "    .dataframe tbody tr th {\n",
       "        vertical-align: top;\n",
       "    }\n",
       "\n",
       "    .dataframe thead th {\n",
       "        text-align: right;\n",
       "    }\n",
       "</style>\n",
       "<table border=\"1\" class=\"dataframe\">\n",
       "  <thead>\n",
       "    <tr style=\"text-align: right;\">\n",
       "      <th></th>\n",
       "      <th>ride_id</th>\n",
       "      <th>rideable_type</th>\n",
       "      <th>started_at</th>\n",
       "      <th>ended_at</th>\n",
       "      <th>start_station_name</th>\n",
       "      <th>start_station_id</th>\n",
       "      <th>end_station_name</th>\n",
       "      <th>end_station_id</th>\n",
       "      <th>start_lat</th>\n",
       "      <th>start_lng</th>\n",
       "      <th>end_lat</th>\n",
       "      <th>end_lng</th>\n",
       "      <th>member_casual</th>\n",
       "      <th>avgTemp</th>\n",
       "    </tr>\n",
       "    <tr>\n",
       "      <th>date</th>\n",
       "      <th></th>\n",
       "      <th></th>\n",
       "      <th></th>\n",
       "      <th></th>\n",
       "      <th></th>\n",
       "      <th></th>\n",
       "      <th></th>\n",
       "      <th></th>\n",
       "      <th></th>\n",
       "      <th></th>\n",
       "      <th></th>\n",
       "      <th></th>\n",
       "      <th></th>\n",
       "      <th></th>\n",
       "    </tr>\n",
       "  </thead>\n",
       "  <tbody>\n",
       "    <tr>\n",
       "      <th>2022-01-21</th>\n",
       "      <td>BFD29218AB271154</td>\n",
       "      <td>electric_bike</td>\n",
       "      <td>2022-01-21 13:13:43.392</td>\n",
       "      <td>2022-01-21 13:22:31.463</td>\n",
       "      <td>West End Ave &amp; W 107 St</td>\n",
       "      <td>7650.05</td>\n",
       "      <td>Mt Morris Park W &amp; W 120 St</td>\n",
       "      <td>7685.14</td>\n",
       "      <td>40.802117</td>\n",
       "      <td>-73.968181</td>\n",
       "      <td>40.804038</td>\n",
       "      <td>-73.945925</td>\n",
       "      <td>member</td>\n",
       "      <td>-6.0</td>\n",
       "    </tr>\n",
       "    <tr>\n",
       "      <th>2022-01-10</th>\n",
       "      <td>7C953F2FD7BE1302</td>\n",
       "      <td>classic_bike</td>\n",
       "      <td>2022-01-10 11:30:54.162</td>\n",
       "      <td>2022-01-10 11:41:43.422</td>\n",
       "      <td>4 Ave &amp; 3 St</td>\n",
       "      <td>4028.04</td>\n",
       "      <td>Boerum Pl\\t&amp; Pacific St</td>\n",
       "      <td>4488.09</td>\n",
       "      <td>40.673746</td>\n",
       "      <td>-73.985649</td>\n",
       "      <td>40.688489</td>\n",
       "      <td>-73.991160</td>\n",
       "      <td>member</td>\n",
       "      <td>1.6</td>\n",
       "    </tr>\n",
       "    <tr>\n",
       "      <th>2022-01-26</th>\n",
       "      <td>95893ABD40CED4B8</td>\n",
       "      <td>electric_bike</td>\n",
       "      <td>2022-01-26 10:52:43.096</td>\n",
       "      <td>2022-01-26 11:06:35.227</td>\n",
       "      <td>1 Ave &amp; E 62 St</td>\n",
       "      <td>6753.08</td>\n",
       "      <td>5 Ave &amp; E 29 St</td>\n",
       "      <td>6248.06</td>\n",
       "      <td>40.761227</td>\n",
       "      <td>-73.960940</td>\n",
       "      <td>40.745168</td>\n",
       "      <td>-73.986831</td>\n",
       "      <td>member</td>\n",
       "      <td>-2.3</td>\n",
       "    </tr>\n",
       "    <tr>\n",
       "      <th>2022-01-03</th>\n",
       "      <td>F853B50772137378</td>\n",
       "      <td>classic_bike</td>\n",
       "      <td>2022-01-03 08:35:48.247</td>\n",
       "      <td>2022-01-03 09:10:50.475</td>\n",
       "      <td>2 Ave &amp; E 96 St</td>\n",
       "      <td>7338.02</td>\n",
       "      <td>5 Ave &amp; E 29 St</td>\n",
       "      <td>6248.06</td>\n",
       "      <td>40.783964</td>\n",
       "      <td>-73.947167</td>\n",
       "      <td>40.745168</td>\n",
       "      <td>-73.986831</td>\n",
       "      <td>member</td>\n",
       "      <td>1.4</td>\n",
       "    </tr>\n",
       "    <tr>\n",
       "      <th>2022-01-22</th>\n",
       "      <td>7590ADF834797B4B</td>\n",
       "      <td>classic_bike</td>\n",
       "      <td>2022-01-22 14:14:23.043</td>\n",
       "      <td>2022-01-22 14:34:57.474</td>\n",
       "      <td>6 Ave &amp; W 34 St</td>\n",
       "      <td>6364.1</td>\n",
       "      <td>5 Ave &amp; E 29 St</td>\n",
       "      <td>6248.06</td>\n",
       "      <td>40.749640</td>\n",
       "      <td>-73.988050</td>\n",
       "      <td>40.745168</td>\n",
       "      <td>-73.986831</td>\n",
       "      <td>member</td>\n",
       "      <td>-5.9</td>\n",
       "    </tr>\n",
       "  </tbody>\n",
       "</table>\n",
       "</div>"
      ],
      "text/plain": [
       "                     ride_id  rideable_type               started_at  \\\n",
       "date                                                                   \n",
       "2022-01-21  BFD29218AB271154  electric_bike  2022-01-21 13:13:43.392   \n",
       "2022-01-10  7C953F2FD7BE1302   classic_bike  2022-01-10 11:30:54.162   \n",
       "2022-01-26  95893ABD40CED4B8  electric_bike  2022-01-26 10:52:43.096   \n",
       "2022-01-03  F853B50772137378   classic_bike  2022-01-03 08:35:48.247   \n",
       "2022-01-22  7590ADF834797B4B   classic_bike  2022-01-22 14:14:23.043   \n",
       "\n",
       "                           ended_at       start_station_name start_station_id  \\\n",
       "date                                                                            \n",
       "2022-01-21  2022-01-21 13:22:31.463  West End Ave & W 107 St          7650.05   \n",
       "2022-01-10  2022-01-10 11:41:43.422             4 Ave & 3 St          4028.04   \n",
       "2022-01-26  2022-01-26 11:06:35.227          1 Ave & E 62 St          6753.08   \n",
       "2022-01-03  2022-01-03 09:10:50.475          2 Ave & E 96 St          7338.02   \n",
       "2022-01-22  2022-01-22 14:34:57.474          6 Ave & W 34 St           6364.1   \n",
       "\n",
       "                       end_station_name end_station_id  start_lat  start_lng  \\\n",
       "date                                                                           \n",
       "2022-01-21  Mt Morris Park W & W 120 St        7685.14  40.802117 -73.968181   \n",
       "2022-01-10      Boerum Pl\\t& Pacific St        4488.09  40.673746 -73.985649   \n",
       "2022-01-26              5 Ave & E 29 St        6248.06  40.761227 -73.960940   \n",
       "2022-01-03              5 Ave & E 29 St        6248.06  40.783964 -73.947167   \n",
       "2022-01-22              5 Ave & E 29 St        6248.06  40.749640 -73.988050   \n",
       "\n",
       "              end_lat    end_lng member_casual  avgTemp  \n",
       "date                                                     \n",
       "2022-01-21  40.804038 -73.945925        member     -6.0  \n",
       "2022-01-10  40.688489 -73.991160        member      1.6  \n",
       "2022-01-26  40.745168 -73.986831        member     -2.3  \n",
       "2022-01-03  40.745168 -73.986831        member      1.4  \n",
       "2022-01-22  40.745168 -73.986831        member     -5.9  "
      ]
     },
     "execution_count": 20,
     "metadata": {},
     "output_type": "execute_result"
    }
   ],
   "source": [
    "df_temp.head()"
   ]
  },
  {
   "cell_type": "code",
   "execution_count": 19,
   "id": "22597211-10a7-40d0-9b43-76570398016e",
   "metadata": {},
   "outputs": [
    {
     "data": {
      "image/png": "[encoded data removed]",
      "text/plain": [
       "<Figure size 1000x400 with 1 Axes>"
      ]
     },
     "metadata": {},
     "output_type": "display_data"
    }
   ],
   "source": [
    "plt.figure(figsize=(10,4))\n",
    "df_temp['avgTemp'].plot(title='Temperatures daily for 2022', xlabel='Date', ylabel='Temperature (°C)')\n",
    "plt.show()                                   "
   ]
  },
  {
   "cell_type": "markdown",
   "id": "d4a425a9-353e-48b2-8020-869a329ed4d9",
   "metadata": {},
   "source": [
    "#### Create a column with the count of trips per day and merge it with the weather dataframe."
   ]
  },
  {
   "cell_type": "code",
   "execution_count": 21,
   "id": "fbfc1db5-f667-4750-9d1e-18ee8000fd3b",
   "metadata": {},
   "outputs": [
    {
     "data": {
      "text/plain": [
       "Index(['ride_id', 'rideable_type', 'started_at', 'ended_at',\n",
       "       'start_station_name', 'start_station_id', 'end_station_name',\n",
       "       'end_station_id', 'start_lat', 'start_lng', 'end_lat', 'end_lng',\n",
       "       'member_casual', 'date', 'avgTemp'],\n",
       "      dtype='object')"
      ]
     },
     "execution_count": 21,
     "metadata": {},
     "output_type": "execute_result"
    }
   ],
   "source": [
    "df_filtered.columns"
   ]
  },
  {
   "cell_type": "code",
   "execution_count": 22,
   "id": "8767bf94-46e6-4b26-a371-1a753ec72ecc",
   "metadata": {},
   "outputs": [],
   "source": [
    "# Groupby the count of the rides\n",
    "\n",
    "df_group = pd.DataFrame(df_filtered.groupby(['date'])['ride_id'].count()).reset_index()"
   ]
  },
  {
   "cell_type": "code",
   "execution_count": 23,
   "id": "e0fb7bef-112d-4317-a4da-3256a87cf2e5",
   "metadata": {},
   "outputs": [
    {
     "data": {
      "text/html": [
       "<div>\n",
       "<style scoped>\n",
       "    .dataframe tbody tr th:only-of-type {\n",
       "        vertical-align: middle;\n",
       "    }\n",
       "\n",
       "    .dataframe tbody tr th {\n",
       "        vertical-align: top;\n",
       "    }\n",
       "\n",
       "    .dataframe thead th {\n",
       "        text-align: right;\n",
       "    }\n",
       "</style>\n",
       "<table border=\"1\" class=\"dataframe\">\n",
       "  <thead>\n",
       "    <tr style=\"text-align: right;\">\n",
       "      <th></th>\n",
       "      <th>date</th>\n",
       "      <th>ride_id</th>\n",
       "    </tr>\n",
       "  </thead>\n",
       "  <tbody>\n",
       "    <tr>\n",
       "      <th>0</th>\n",
       "      <td>2022-01-01</td>\n",
       "      <td>20428</td>\n",
       "    </tr>\n",
       "    <tr>\n",
       "      <th>1</th>\n",
       "      <td>2022-01-02</td>\n",
       "      <td>43009</td>\n",
       "    </tr>\n",
       "    <tr>\n",
       "      <th>2</th>\n",
       "      <td>2022-01-03</td>\n",
       "      <td>33189</td>\n",
       "    </tr>\n",
       "    <tr>\n",
       "      <th>3</th>\n",
       "      <td>2022-01-04</td>\n",
       "      <td>36842</td>\n",
       "    </tr>\n",
       "    <tr>\n",
       "      <th>4</th>\n",
       "      <td>2022-01-05</td>\n",
       "      <td>34230</td>\n",
       "    </tr>\n",
       "  </tbody>\n",
       "</table>\n",
       "</div>"
      ],
      "text/plain": [
       "        date  ride_id\n",
       "0 2022-01-01    20428\n",
       "1 2022-01-02    43009\n",
       "2 2022-01-03    33189\n",
       "3 2022-01-04    36842\n",
       "4 2022-01-05    34230"
      ]
     },
     "execution_count": 23,
     "metadata": {},
     "output_type": "execute_result"
    }
   ],
   "source": [
    "df_group.head()"
   ]
  },
  {
   "cell_type": "code",
   "execution_count": 24,
   "id": "6c8496e2-1cb2-48aa-86c1-25fcce47d2da",
   "metadata": {},
   "outputs": [
    {
     "data": {
      "text/html": [
       "<div>\n",
       "<style scoped>\n",
       "    .dataframe tbody tr th:only-of-type {\n",
       "        vertical-align: middle;\n",
       "    }\n",
       "\n",
       "    .dataframe tbody tr th {\n",
       "        vertical-align: top;\n",
       "    }\n",
       "\n",
       "    .dataframe thead th {\n",
       "        text-align: right;\n",
       "    }\n",
       "</style>\n",
       "<table border=\"1\" class=\"dataframe\">\n",
       "  <thead>\n",
       "    <tr style=\"text-align: right;\">\n",
       "      <th></th>\n",
       "      <th>date</th>\n",
       "      <th>ride_id</th>\n",
       "    </tr>\n",
       "  </thead>\n",
       "  <tbody>\n",
       "    <tr>\n",
       "      <th>360</th>\n",
       "      <td>2022-12-27</td>\n",
       "      <td>33044</td>\n",
       "    </tr>\n",
       "    <tr>\n",
       "      <th>361</th>\n",
       "      <td>2022-12-28</td>\n",
       "      <td>44027</td>\n",
       "    </tr>\n",
       "    <tr>\n",
       "      <th>362</th>\n",
       "      <td>2022-12-29</td>\n",
       "      <td>51674</td>\n",
       "    </tr>\n",
       "    <tr>\n",
       "      <th>363</th>\n",
       "      <td>2022-12-30</td>\n",
       "      <td>62298</td>\n",
       "    </tr>\n",
       "    <tr>\n",
       "      <th>364</th>\n",
       "      <td>2022-12-31</td>\n",
       "      <td>31466</td>\n",
       "    </tr>\n",
       "  </tbody>\n",
       "</table>\n",
       "</div>"
      ],
      "text/plain": [
       "          date  ride_id\n",
       "360 2022-12-27    33044\n",
       "361 2022-12-28    44027\n",
       "362 2022-12-29    51674\n",
       "363 2022-12-30    62298\n",
       "364 2022-12-31    31466"
      ]
     },
     "execution_count": 24,
     "metadata": {},
     "output_type": "execute_result"
    }
   ],
   "source": [
    "df_group.tail()"
   ]
  },
  {
   "cell_type": "code",
   "execution_count": 25,
   "id": "4f9bf630-a55e-40d3-81ac-9dc8cf418006",
   "metadata": {},
   "outputs": [
    {
     "name": "stdout",
     "output_type": "stream",
     "text": [
      "both          29838166\n",
      "left_only            0\n",
      "right_only           0\n",
      "Name: _merge, dtype: int64\n",
      "Shape of January 1st is (20428, 17)\n",
      "Shape of January 2nd is (43009, 17)\n",
      "Index(['ride_id', 'rideable_type', 'started_at', 'ended_at',\n",
      "       'start_station_name', 'start_station_id', 'end_station_name',\n",
      "       'end_station_id', 'start_lat', 'start_lng', 'end_lat', 'end_lng',\n",
      "       'member_casual', 'avgTemp', 'bike_rides_daily', '_merge'],\n",
      "      dtype='object')\n"
     ]
    }
   ],
   "source": [
    "df_group.rename(columns = {'ride_id':'bike_rides_daily'}, inplace = True)\n",
    "df = df_filtered.merge(df_group, on = \"date\", how = 'outer', indicator = True)\n",
    "print(df['_merge'].value_counts(dropna = False))\n",
    "print(\"Shape of January 1st is\", df[df['date'] == '2022-01-01'].shape) # Check \n",
    "print(\"Shape of January 2nd is\", df[df['date'] == '2022-01-02'].shape) # Second check \n",
    "\n",
    "df_temp = df.set_index('date')\n",
    "\n",
    "print(df_temp.columns)"
   ]
  },
  {
   "cell_type": "code",
   "execution_count": 26,
   "id": "b245dfe4-643a-4902-8d16-2bd1a22ccafa",
   "metadata": {},
   "outputs": [
    {
     "data": {
      "text/html": [
       "<div>\n",
       "<style scoped>\n",
       "    .dataframe tbody tr th:only-of-type {\n",
       "        vertical-align: middle;\n",
       "    }\n",
       "\n",
       "    .dataframe tbody tr th {\n",
       "        vertical-align: top;\n",
       "    }\n",
       "\n",
       "    .dataframe thead th {\n",
       "        text-align: right;\n",
       "    }\n",
       "</style>\n",
       "<table border=\"1\" class=\"dataframe\">\n",
       "  <thead>\n",
       "    <tr style=\"text-align: right;\">\n",
       "      <th></th>\n",
       "      <th>ride_id</th>\n",
       "      <th>rideable_type</th>\n",
       "      <th>started_at</th>\n",
       "      <th>ended_at</th>\n",
       "      <th>start_station_name</th>\n",
       "      <th>start_station_id</th>\n",
       "      <th>end_station_name</th>\n",
       "      <th>end_station_id</th>\n",
       "      <th>start_lat</th>\n",
       "      <th>start_lng</th>\n",
       "      <th>end_lat</th>\n",
       "      <th>end_lng</th>\n",
       "      <th>member_casual</th>\n",
       "      <th>avgTemp</th>\n",
       "      <th>bike_rides_daily</th>\n",
       "      <th>_merge</th>\n",
       "    </tr>\n",
       "    <tr>\n",
       "      <th>date</th>\n",
       "      <th></th>\n",
       "      <th></th>\n",
       "      <th></th>\n",
       "      <th></th>\n",
       "      <th></th>\n",
       "      <th></th>\n",
       "      <th></th>\n",
       "      <th></th>\n",
       "      <th></th>\n",
       "      <th></th>\n",
       "      <th></th>\n",
       "      <th></th>\n",
       "      <th></th>\n",
       "      <th></th>\n",
       "      <th></th>\n",
       "      <th></th>\n",
       "    </tr>\n",
       "  </thead>\n",
       "  <tbody>\n",
       "    <tr>\n",
       "      <th>2022-01-21</th>\n",
       "      <td>BFD29218AB271154</td>\n",
       "      <td>electric_bike</td>\n",
       "      <td>2022-01-21 13:13:43.392</td>\n",
       "      <td>2022-01-21 13:22:31.463</td>\n",
       "      <td>West End Ave &amp; W 107 St</td>\n",
       "      <td>7650.05</td>\n",
       "      <td>Mt Morris Park W &amp; W 120 St</td>\n",
       "      <td>7685.14</td>\n",
       "      <td>40.802117</td>\n",
       "      <td>-73.968181</td>\n",
       "      <td>40.804038</td>\n",
       "      <td>-73.945925</td>\n",
       "      <td>member</td>\n",
       "      <td>-6.0</td>\n",
       "      <td>33598</td>\n",
       "      <td>both</td>\n",
       "    </tr>\n",
       "    <tr>\n",
       "      <th>2022-01-21</th>\n",
       "      <td>096AE4C21473D1D6</td>\n",
       "      <td>electric_bike</td>\n",
       "      <td>2022-01-21 20:32:55.968</td>\n",
       "      <td>2022-01-21 20:35:20.227</td>\n",
       "      <td>Riverside Dr &amp; W 91 St</td>\n",
       "      <td>7524.16</td>\n",
       "      <td>Riverside Dr &amp; W 82 St</td>\n",
       "      <td>7388.1</td>\n",
       "      <td>40.793135</td>\n",
       "      <td>-73.977004</td>\n",
       "      <td>40.787209</td>\n",
       "      <td>-73.981281</td>\n",
       "      <td>member</td>\n",
       "      <td>-6.0</td>\n",
       "      <td>33598</td>\n",
       "      <td>both</td>\n",
       "    </tr>\n",
       "    <tr>\n",
       "      <th>2022-01-21</th>\n",
       "      <td>B3996D7CAEDF7B92</td>\n",
       "      <td>classic_bike</td>\n",
       "      <td>2022-01-21 09:14:04.856</td>\n",
       "      <td>2022-01-21 09:18:53.000</td>\n",
       "      <td>Henry St &amp; Atlantic Ave</td>\n",
       "      <td>4531.05</td>\n",
       "      <td>Clinton St &amp; Tillary St</td>\n",
       "      <td>4748.07</td>\n",
       "      <td>40.690893</td>\n",
       "      <td>-73.996123</td>\n",
       "      <td>40.696233</td>\n",
       "      <td>-73.991421</td>\n",
       "      <td>member</td>\n",
       "      <td>-6.0</td>\n",
       "      <td>33598</td>\n",
       "      <td>both</td>\n",
       "    </tr>\n",
       "    <tr>\n",
       "      <th>2022-01-21</th>\n",
       "      <td>83AE874442FFF355</td>\n",
       "      <td>electric_bike</td>\n",
       "      <td>2022-01-21 17:30:27.244</td>\n",
       "      <td>2022-01-21 17:36:00.300</td>\n",
       "      <td>Cleveland Pl &amp; Spring St</td>\n",
       "      <td>5492.05</td>\n",
       "      <td>Rivington St &amp; Ridge St</td>\n",
       "      <td>5406.02</td>\n",
       "      <td>40.722104</td>\n",
       "      <td>-73.997249</td>\n",
       "      <td>40.718502</td>\n",
       "      <td>-73.983299</td>\n",
       "      <td>member</td>\n",
       "      <td>-6.0</td>\n",
       "      <td>33598</td>\n",
       "      <td>both</td>\n",
       "    </tr>\n",
       "    <tr>\n",
       "      <th>2022-01-21</th>\n",
       "      <td>8B1950B6ED5BD50A</td>\n",
       "      <td>electric_bike</td>\n",
       "      <td>2022-01-21 10:12:57.242</td>\n",
       "      <td>2022-01-21 10:31:37.016</td>\n",
       "      <td>1 Ave &amp; E 62 St</td>\n",
       "      <td>6753.08</td>\n",
       "      <td>Allen St &amp; Rivington St</td>\n",
       "      <td>5414.06</td>\n",
       "      <td>40.761227</td>\n",
       "      <td>-73.960940</td>\n",
       "      <td>40.720196</td>\n",
       "      <td>-73.989978</td>\n",
       "      <td>member</td>\n",
       "      <td>-6.0</td>\n",
       "      <td>33598</td>\n",
       "      <td>both</td>\n",
       "    </tr>\n",
       "  </tbody>\n",
       "</table>\n",
       "</div>"
      ],
      "text/plain": [
       "                     ride_id  rideable_type               started_at  \\\n",
       "date                                                                   \n",
       "2022-01-21  BFD29218AB271154  electric_bike  2022-01-21 13:13:43.392   \n",
       "2022-01-21  096AE4C21473D1D6  electric_bike  2022-01-21 20:32:55.968   \n",
       "2022-01-21  B3996D7CAEDF7B92   classic_bike  2022-01-21 09:14:04.856   \n",
       "2022-01-21  83AE874442FFF355  electric_bike  2022-01-21 17:30:27.244   \n",
       "2022-01-21  8B1950B6ED5BD50A  electric_bike  2022-01-21 10:12:57.242   \n",
       "\n",
       "                           ended_at        start_station_name  \\\n",
       "date                                                            \n",
       "2022-01-21  2022-01-21 13:22:31.463   West End Ave & W 107 St   \n",
       "2022-01-21  2022-01-21 20:35:20.227    Riverside Dr & W 91 St   \n",
       "2022-01-21  2022-01-21 09:18:53.000   Henry St & Atlantic Ave   \n",
       "2022-01-21  2022-01-21 17:36:00.300  Cleveland Pl & Spring St   \n",
       "2022-01-21  2022-01-21 10:31:37.016           1 Ave & E 62 St   \n",
       "\n",
       "           start_station_id             end_station_name end_station_id  \\\n",
       "date                                                                      \n",
       "2022-01-21          7650.05  Mt Morris Park W & W 120 St        7685.14   \n",
       "2022-01-21          7524.16       Riverside Dr & W 82 St         7388.1   \n",
       "2022-01-21          4531.05      Clinton St & Tillary St        4748.07   \n",
       "2022-01-21          5492.05      Rivington St & Ridge St        5406.02   \n",
       "2022-01-21          6753.08      Allen St & Rivington St        5414.06   \n",
       "\n",
       "            start_lat  start_lng    end_lat    end_lng member_casual  avgTemp  \\\n",
       "date                                                                            \n",
       "2022-01-21  40.802117 -73.968181  40.804038 -73.945925        member     -6.0   \n",
       "2022-01-21  40.793135 -73.977004  40.787209 -73.981281        member     -6.0   \n",
       "2022-01-21  40.690893 -73.996123  40.696233 -73.991421        member     -6.0   \n",
       "2022-01-21  40.722104 -73.997249  40.718502 -73.983299        member     -6.0   \n",
       "2022-01-21  40.761227 -73.960940  40.720196 -73.989978        member     -6.0   \n",
       "\n",
       "            bike_rides_daily _merge  \n",
       "date                                 \n",
       "2022-01-21             33598   both  \n",
       "2022-01-21             33598   both  \n",
       "2022-01-21             33598   both  \n",
       "2022-01-21             33598   both  \n",
       "2022-01-21             33598   both  "
      ]
     },
     "execution_count": 26,
     "metadata": {},
     "output_type": "execute_result"
    }
   ],
   "source": [
    "df_temp.head()"
   ]
  },
  {
   "cell_type": "markdown",
   "id": "dcddff16-f949-4025-80eb-9f653f91f592",
   "metadata": {},
   "source": [
    "#### Create a line chart of bike trip counts and temperatures plotted on a dual axis"
   ]
  },
  {
   "cell_type": "code",
   "execution_count": 27,
   "id": "8a606264-e9b6-4084-a7d7-83f5a9699f45",
   "metadata": {},
   "outputs": [
    {
     "name": "stderr",
     "output_type": "stream",
     "text": [
      "C:\\Users\\marze\\AppData\\Local\\Temp\\ipykernel_17128\\1688156148.py:2: FutureWarning: The default value of numeric_only in DataFrameGroupBy.mean is deprecated. In a future version, numeric_only will default to False. Either specify numeric_only or select only columns which should be valid for the function.\n",
      "  df_weekly = df_temp.resample('W').mean()\n"
     ]
    },
    {
     "data": {
      "image/png": "[encoded data removed]",
      "text/plain": [
       "<Figure size 1200x600 with 2 Axes>"
      ]
     },
     "metadata": {},
     "output_type": "display_data"
    }
   ],
   "source": [
    "# Resample the data to weekly frequency and calculate the mean\n",
    "df_weekly = df_temp.resample('W').mean()\n",
    "\n",
    "# Create figure and axis objects with subplots() and details\n",
    "fig, ax1 = plt.subplots(figsize=(12, 6))\n",
    "\n",
    "# Plot the weekly bike rides on the first axis\n",
    "ax1.plot(df_weekly['bike_rides_daily'], color='navy', linestyle='-', marker='o', label='Bike Rides Weekly')\n",
    "ax1.set_xlabel(\"Year 2022\", fontsize=14)\n",
    "ax1.set_ylabel(\"Bike Rides Weekly\", color='navy', fontsize=14)\n",
    "ax1.tick_params(axis='y', labelcolor='navy')\n",
    "ax1.grid(True)\n",
    "\n",
    "# Initialize a twin object for two different y-axis on the sample plot\n",
    "ax2 = ax1.twinx()\n",
    "\n",
    "# Plot the weekly temperatures on the second axis\n",
    "ax2.plot(df_weekly['avgTemp'], color='red', linestyle='--', marker='x', label='Average Temperatures Weekly')\n",
    "ax2.set_ylabel(\"Average Temperatures (°C)\", color='red', fontsize=14)\n",
    "ax2.tick_params(axis='y', labelcolor='red')\n",
    "\n",
    "# Add title and legend\n",
    "plt.title('Weekly Bike Rides and Average Temperatures in 2022', fontsize=18)\n",
    "fig.legend(loc='upper left', bbox_to_anchor=(0.1, 0.9), bbox_transform=ax1.transAxes)\n",
    "\n",
    "plt.show()\n"
   ]
  },
  {
   "cell_type": "markdown",
   "id": "ed36fb2f-a322-4df0-a958-d2b5e323e6be",
   "metadata": {},
   "source": [
    "I used the object-oriented paradigm of Matplotlib. This object-oriented approach allows for precise control over each plot element, making it easier to create complex and customized visualizations. Additionally, due to a large number of data points, the plot as looking crowded, therefore, a weekly sampling was used to achieve the above plot. Here's a breakdown of how I used this paradigm to achieve the plot:\n",
    "\n",
    "1. Created figure and axes objects\n",
    "2. Plotted data on the first axis\n",
    "3. Created twin axis for the second y-axis\n",
    "4. Plotted data on the second axis\n",
    "5. Added title and labels\n",
    "6. Show plot"
   ]
  },
  {
   "cell_type": "code",
   "execution_count": 28,
   "id": "e15e6ba9-ebac-49e6-9bc0-2ae59d94aa8c",
   "metadata": {},
   "outputs": [],
   "source": [
    "# save the plot as a file\n",
    "fig.savefig('trips_temperatures_dual_line.jpg',\n",
    "            format='jpeg',\n",
    "            dpi=100,\n",
    "            bbox_inches='tight')"
   ]
  },
  {
   "cell_type": "code",
   "execution_count": null,
   "id": "f5ae0c6a-843f-4c08-953e-372637a5c82f",
   "metadata": {},
   "outputs": [],
   "source": [
    "# save the wrangled data\n",
    "df_filtered.to_csv('NY_data_filtered.csv')"
   ]
  },
  {
   "cell_type": "markdown",
   "id": "c1c99152-4903-427b-a8d8-de354ffe5b80",
   "metadata": {},
   "source": [
    "#### Create a histogram of the variable “tripduration” using matplotlib"
   ]
  },
  {
   "cell_type": "code",
   "execution_count": null,
   "id": "997d91de-bd71-4a31-8237-bc5faca4ee57",
   "metadata": {},
   "outputs": [],
   "source": [
    "df=df_filtered.sample(frac=.01)"
   ]
  },
  {
   "cell_type": "code",
   "execution_count": null,
   "id": "8a60b821-136a-4d49-8be3-db73917c714e",
   "metadata": {
    "scrolled": true
   },
   "outputs": [],
   "source": [
    "# Convert 'started_at' and 'ended_at' to datetime\n",
    "df['started_at'] = pd.to_datetime(df['started_at'])\n",
    "df['ended_at'] = pd.to_datetime(df['ended_at'])\n",
    "\n",
    "# Calculate the trip duration in minutes\n",
    "df['trip_duration'] = (df['ended_at'] - df['started_at']).dt.total_seconds() / 60\n",
    "\n",
    "# Verify that the 'tripduration' column has been created successfully\n",
    "print(df[['started_at', 'ended_at', 'trip_duration']])\n"
   ]
  },
  {
   "cell_type": "code",
   "execution_count": null,
   "id": "d88561b9-6415-4033-a5e2-606c8c1dbf35",
   "metadata": {
    "scrolled": true
   },
   "outputs": [],
   "source": [
    "df.head()"
   ]
  },
  {
   "cell_type": "code",
   "execution_count": null,
   "id": "d250bae8-eb39-4207-b5dd-16c424fee9c9",
   "metadata": {},
   "outputs": [],
   "source": [
    "df['trip_duration'].max()"
   ]
  },
  {
   "cell_type": "code",
   "execution_count": null,
   "id": "687f1300-7415-462e-83ff-c23a9d6669f9",
   "metadata": {},
   "outputs": [],
   "source": [
    "# Create the histogram\n",
    "plt.figure(figsize=(6, 4))\n",
    "plt.hist(df['trip_duration'], bins=30, color='blue', edgecolor='black')\n",
    "\n",
    "# Adjust the x-axis to focus on the range of interest\n",
    "plt.xlim(0, 3000)  # Adjust this range based on your data\n",
    "\n",
    "# Add title and labels\n",
    "plt.title('Histogram of Trip Duration', fontsize=18)\n",
    "plt.xlabel('Trip Duration (minutes)', fontsize=14)\n",
    "plt.ylabel('Frequency', fontsize=14)\n",
    "\n",
    "# Show the plot\n",
    "plt.show()"
   ]
  },
  {
   "cell_type": "code",
   "execution_count": null,
   "id": "e9c2f320-3d34-4bec-a4d2-7df1226f83b7",
   "metadata": {},
   "outputs": [],
   "source": []
  }
 ],
 "metadata": {
  "kernelspec": {
   "display_name": "Python [conda env:bike_sharing] *",
   "language": "python",
   "name": "conda-env-bike_sharing-py"
  },
  "language_info": {
   "codemirror_mode": {
    "name": "ipython",
    "version": 3
   },
   "file_extension": ".py",
   "mimetype": "text/x-python",
   "name": "python",
   "nbconvert_exporter": "python",
   "pygments_lexer": "ipython3",
   "version": "3.10.16"
  }
 },
 "nbformat": 4,
 "nbformat_minor": 5
}
