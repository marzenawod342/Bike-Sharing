{
 "cells": [
  {
   "cell_type": "markdown",
   "id": "d461adc5-f950-4ba8-8842-0c32db3565f0",
   "metadata": {},
   "source": [
    "### 2.5 Advanced Geospatial Plotting"
   ]
  },
  {
   "cell_type": "markdown",
   "id": "7bf802e1-cfbc-458f-8135-195bb839b248",
   "metadata": {},
   "source": [
    "#### Import libraries and load data"
   ]
  },
  {
   "cell_type": "code",
   "execution_count": 6,
   "id": "412707f0-891b-46ac-b2ab-69799a25a731",
   "metadata": {},
   "outputs": [],
   "source": [
    "import pandas as pd\n",
    "import os\n",
    "from keplergl import KeplerGl\n",
    "from pyproj import CRS\n",
    "import numpy as np\n",
    "from matplotlib import pyplot as plt"
   ]
  },
  {
   "cell_type": "code",
   "execution_count": null,
   "id": "84b7fcbf-683a-4c2d-8b69-94aace793d08",
   "metadata": {},
   "outputs": [],
   "source": [
    "df = pd.read_csv('NY_data_sample.csv', index_col = 0)"
   ]
  },
  {
   "cell_type": "code",
   "execution_count": null,
   "id": "98bb9a11-a365-4017-a51c-db19cec3870d",
   "metadata": {},
   "outputs": [],
   "source": []
  },
  {
   "cell_type": "code",
   "execution_count": null,
   "id": "bf716a7a-cb84-40d1-bcb5-7030c93e491c",
   "metadata": {},
   "outputs": [],
   "source": []
  }
 ],
 "metadata": {
  "kernelspec": {
   "display_name": "Python [conda env:bike_sharing]",
   "language": "python",
   "name": "conda-env-bike_sharing-py"
  },
  "language_info": {
   "codemirror_mode": {
    "name": "ipython",
    "version": 3
   },
   "file_extension": ".py",
   "mimetype": "text/x-python",
   "name": "python",
   "nbconvert_exporter": "python",
   "pygments_lexer": "ipython3",
   "version": "3.10.16"
  }
 },
 "nbformat": 4,
 "nbformat_minor": 5
}
